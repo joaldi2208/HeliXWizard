{
 "cells": [
  {
   "cell_type": "code",
   "execution_count": 6,
   "id": "6725d6e6",
   "metadata": {},
   "outputs": [],
   "source": [
    "filtered_ids = [\n",
    "    \"filtered_by_temperature.txt\",\n",
    "    \"filtered_by_pressure.txt\", \n",
    "    \"filtered_by_ph.txt\", \n",
    "    \"filtered_by_protein.txt\",\n",
    "    \"filtered_by_shifts.txt\",\n",
    "    \"filtered_by_sec_structure.txt\"\n",
    "               ]"
   ]
  },
  {
   "cell_type": "code",
   "execution_count": 7,
   "id": "a7b18447",
   "metadata": {},
   "outputs": [],
   "source": [
    "all_filtered_ids = []\n",
    "for filtered_id in filtered_ids:\n",
    "    with open(filtered_id, \"r\") as infile:\n",
    "        filtered_IDs = infile.read().replace(\"\\n\",\"\").split(\",\")\n",
    "        filtered_IDs = [int(bmrb_id) for bmrb_id in filtered_IDs]\n",
    "        all_filtered_ids.append(set(filtered_IDs))"
   ]
  },
  {
   "cell_type": "code",
   "execution_count": 8,
   "id": "dda9769a",
   "metadata": {},
   "outputs": [],
   "source": [
    "set_to_compare = all_filtered_ids[0]\n",
    "for f in all_filtered_ids[1:]:\n",
    "    set_to_compare &= f\n",
    "    \n",
    "    "
   ]
  },
  {
   "cell_type": "code",
   "execution_count": 9,
   "id": "c65933fe",
   "metadata": {},
   "outputs": [
    {
     "data": {
      "text/plain": [
       "4752"
      ]
     },
     "execution_count": 9,
     "metadata": {},
     "output_type": "execute_result"
    }
   ],
   "source": [
    "len(set_to_compare)"
   ]
  },
  {
   "cell_type": "code",
   "execution_count": 10,
   "id": "ea2dd1ba",
   "metadata": {},
   "outputs": [],
   "source": [
    "with open(\"aggregated_bmrd_ids.txt\", \"w\") as outfile:\n",
    "    outfile.writelines(\",\".join(map(str, list(set_to_compare))))"
   ]
  }
 ],
 "metadata": {
  "kernelspec": {
   "display_name": "Python 3 (ipykernel)",
   "language": "python",
   "name": "python3"
  },
  "language_info": {
   "codemirror_mode": {
    "name": "ipython",
    "version": 3
   },
   "file_extension": ".py",
   "mimetype": "text/x-python",
   "name": "python",
   "nbconvert_exporter": "python",
   "pygments_lexer": "ipython3",
   "version": "3.10.6"
  }
 },
 "nbformat": 4,
 "nbformat_minor": 5
}
