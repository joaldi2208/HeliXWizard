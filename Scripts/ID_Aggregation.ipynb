{
 "cells": [
  {
   "cell_type": "code",
   "execution_count": 1,
   "id": "6725d6e6",
   "metadata": {},
   "outputs": [],
   "source": [
    "filtered_ids = [\n",
    "    \"Thesis_filtered_by_temperature.txt\",\n",
    "    \"Thesis_filtered_by_ph.txt\", \n",
    "    \"Thesis_filtered_by_protein.txt\",\n",
    "    \"Thesis_filtered_by_shifts.txt\",\n",
    "    \"Thesis_filtered_by_sec_structure.txt\"\n",
    "               ]"
   ]
  },
  {
   "cell_type": "code",
   "execution_count": 2,
   "id": "a7b18447",
   "metadata": {},
   "outputs": [
    {
     "name": "stdout",
     "output_type": "stream",
     "text": [
      "5687\n",
      "5280\n",
      "5729\n",
      "5743\n",
      "5801\n"
     ]
    }
   ],
   "source": [
    "all_filtered_ids = []\n",
    "for filtered_id in filtered_ids:\n",
    "    with open(filtered_id, \"r\") as infile:\n",
    "        filtered_IDs = infile.read().replace(\"\\n\",\"\").split(\",\")\n",
    "        print(len(filtered_IDs))\n",
    "        filtered_IDs = [int(bmrb_id) for bmrb_id in filtered_IDs]\n",
    "        all_filtered_ids.append(set(filtered_IDs))"
   ]
  },
  {
   "cell_type": "code",
   "execution_count": 3,
   "id": "dda9769a",
   "metadata": {},
   "outputs": [],
   "source": [
    "set_to_compare = all_filtered_ids[0]\n",
    "for f in all_filtered_ids[1:]:\n",
    "    set_to_compare &= f\n",
    "    \n",
    "    "
   ]
  },
  {
   "cell_type": "code",
   "execution_count": 4,
   "id": "c65933fe",
   "metadata": {},
   "outputs": [
    {
     "data": {
      "text/plain": [
       "5001"
      ]
     },
     "execution_count": 4,
     "metadata": {},
     "output_type": "execute_result"
    }
   ],
   "source": [
    "len(set_to_compare)"
   ]
  },
  {
   "cell_type": "code",
   "execution_count": 5,
   "id": "ea2dd1ba",
   "metadata": {},
   "outputs": [],
   "source": [
    "with open(\"Thesis_aggregated_bmrd_ids.txt\", \"w\") as outfile:\n",
    "    outfile.writelines(\",\".join(map(str, list(set_to_compare))))"
   ]
  },
  {
   "cell_type": "code",
   "execution_count": null,
   "id": "8d51ccdd",
   "metadata": {},
   "outputs": [],
   "source": []
  }
 ],
 "metadata": {
  "kernelspec": {
   "display_name": "Python 3 (ipykernel)",
   "language": "python",
   "name": "python3"
  },
  "language_info": {
   "codemirror_mode": {
    "name": "ipython",
    "version": 3
   },
   "file_extension": ".py",
   "mimetype": "text/x-python",
   "name": "python",
   "nbconvert_exporter": "python",
   "pygments_lexer": "ipython3",
   "version": "3.10.6"
  }
 },
 "nbformat": 4,
 "nbformat_minor": 5
}
