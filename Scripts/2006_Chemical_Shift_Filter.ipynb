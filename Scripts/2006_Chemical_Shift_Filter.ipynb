{
 "cells": [
  {
   "cell_type": "code",
   "execution_count": 1,
   "id": "9884debf",
   "metadata": {},
   "outputs": [],
   "source": [
    "import pickle\n",
    "import matplotlib.pyplot as plt"
   ]
  },
  {
   "cell_type": "code",
   "execution_count": 2,
   "id": "355a956b",
   "metadata": {},
   "outputs": [],
   "source": [
    "with open(\"2006_with_previous_filtering.txt\", \"r\") as infile:\n",
    "        filtered_IDs = infile.read().replace(\"\\n\",\"\").split(\",\")\n",
    "        filtered_IDs = set([int(bmrb_id) for bmrb_id in filtered_IDs])\n"
   ]
  },
  {
   "cell_type": "code",
   "execution_count": 3,
   "id": "58083aa7",
   "metadata": {},
   "outputs": [
    {
     "data": {
      "text/plain": [
       "479"
      ]
     },
     "execution_count": 3,
     "metadata": {},
     "output_type": "execute_result"
    }
   ],
   "source": [
    "len(filtered_IDs)"
   ]
  },
  {
   "cell_type": "code",
   "execution_count": 4,
   "id": "02aa81dd",
   "metadata": {},
   "outputs": [],
   "source": [
    "with open(\"chemical_shifts.pkl\", \"rb\") as infile:\n",
    "        chemical_shifts = pickle.load(infile)\n",
    "        bmrb_ids = set(list(chemical_shifts))"
   ]
  },
  {
   "cell_type": "code",
   "execution_count": 5,
   "id": "11e43e69",
   "metadata": {},
   "outputs": [],
   "source": [
    "filtered_chemical_shifts = list(filtered_IDs.intersection(bmrb_ids))"
   ]
  },
  {
   "cell_type": "code",
   "execution_count": 6,
   "id": "57124486",
   "metadata": {},
   "outputs": [
    {
     "data": {
      "text/plain": [
       "479"
      ]
     },
     "execution_count": 6,
     "metadata": {},
     "output_type": "execute_result"
    }
   ],
   "source": [
    "len(filtered_chemical_shifts)"
   ]
  },
  {
   "cell_type": "markdown",
   "id": "b5344ace",
   "metadata": {},
   "source": [
    "# H-Shifts"
   ]
  },
  {
   "cell_type": "code",
   "execution_count": 7,
   "id": "86994ea3",
   "metadata": {},
   "outputs": [
    {
     "data": {
      "image/png": "[encoded data removed]",
      "text/plain": [
       "<Figure size 1080x720 with 1 Axes>"
      ]
     },
     "metadata": {
      "needs_background": "light"
     },
     "output_type": "display_data"
    }
   ],
   "source": [
    "plt.figure(figsize=(15,10))\n",
    "for bmrb_id in filtered_chemical_shifts:\n",
    "    plt.hist(chemical_shifts[bmrb_id].X_shift, 150, density=False, alpha=0.75, histtype=\"stepfilled\", color=\"black\")\n",
    "plt.title(\"H-Shifts\")\n",
    "plt.show()"
   ]
  },
  {
   "cell_type": "markdown",
   "id": "d58601b7",
   "metadata": {},
   "source": [
    "## Filtering"
   ]
  },
  {
   "cell_type": "code",
   "execution_count": 8,
   "id": "3dffe0d4",
   "metadata": {
    "scrolled": true
   },
   "outputs": [
    {
     "name": "stdout",
     "output_type": "stream",
     "text": [
      "6160 : max -->  11.227 min -->  7.187\n",
      "6176 : max -->  9.78 min -->  4.92\n",
      "6189 : max -->  10.082 min -->  5.652\n",
      "4184 : max -->  10.74 min -->  4.98\n",
      "6254 : max -->  11.388 min -->  7.168\n",
      "6259 : max -->  11.22 min -->  6.972\n",
      "6266 : max -->  9.528 min -->  5.81\n",
      "6272 : max -->  9.46 min -->  5.38\n",
      "6295 : max -->  12.026 min -->  6.307\n",
      "4265 : max -->  11.58 min -->  6.05\n",
      "6313 : max -->  11.06 min -->  6.72\n",
      "6337 : max -->  11.016 min -->  6.135\n",
      "4312 : max -->  11.67 min -->  6.36\n",
      "6365 : max -->  10.98 min -->  5.59\n",
      "4342 : max -->  9.7 min -->  4.38\n",
      "6390 : max -->  11.76 min -->  6.38\n",
      "6393 : max -->  11.15 min -->  6.56\n",
      "4397 : max -->  9.81 min -->  5.33\n",
      "6448 : max -->  9.987 min -->  5.404\n",
      "6475 : max -->  10.746 min -->  5.221\n",
      "4428 : max -->  10.64 min -->  5.93\n",
      "4497 : max -->  11.68 min -->  6.83\n",
      "6549 : max -->  11.54 min -->  6.34\n",
      "6597 : max -->  11.121 min -->  6.175\n",
      "4553 : max -->  10.43 min -->  5.48\n",
      "6615 : max -->  11.56 min -->  6.541\n",
      "4588 : max -->  9.54 min -->  5.62\n",
      "4589 : max -->  11.31 min -->  5.37\n",
      "6644 : max -->  11.01 min -->  5.66\n",
      "4599 : max -->  11.68 min -->  6.83\n",
      "6692 : max -->  11.649 min -->  6.319\n",
      "4649 : max -->  9.521 min -->  5.489\n",
      "4664 : max -->  11.29 min -->  6.7\n",
      "4668 : max -->  11.594 min -->  6.597\n",
      "6726 : max -->  11.224 min -->  5.747\n",
      "4679 : max -->  13.02 min -->  5.57\n",
      "4701 : max -->  11.38 min -->  6.74\n",
      "4706 : max -->  10.582 min -->  5.747\n",
      "4716 : max -->  11.05 min -->  5.78\n",
      "4775 : max -->  10.04 min -->  5.39\n",
      "4778 : max -->  10.57 min -->  5.71\n",
      "4895 : max -->  9.77 min -->  5.9\n",
      "4902 : max -->  9.99 min -->  5.56\n",
      "4929 : max -->  9.8 min -->  5.57\n",
      "4938 : max -->  10.44 min -->  4.73\n",
      "4954 : max -->  11.06 min -->  6.92\n",
      "5022 : max -->  11.11 min -->  6.661\n",
      "5165 : max -->  10.281 min -->  5.211\n",
      "5211 : max -->  11.357 min -->  5.598\n",
      "5212 : max -->  11.13 min -->  5.555\n",
      "5298 : max -->  10.41 min -->  5.89\n",
      "5315 : max -->  11.74 min -->  6.712\n",
      "5334 : max -->  9.328 min -->  5.46\n",
      "3322 : max -->  9.7 min -->  5.8\n",
      "5389 : max -->  11.9 min -->  6.67\n",
      "5396 : max -->  10.749 min -->  5.681\n",
      "5552 : max -->  12.22 min -->  5.7\n",
      "5566 : max -->  9.82 min -->  5.37\n",
      "5589 : max -->  9.79 min -->  5.65\n",
      "5678 : max -->  9.13 min -->  5.75\n",
      "5742 : max -->  10.304 min -->  5.839\n",
      "5745 : max -->  11.7 min -->  6.54\n",
      "5820 : max -->  11.085 min -->  6.346\n",
      "5844 : max -->  9.952 min -->  5.614\n",
      "5876 : max -->  10.036 min -->  5.492\n",
      "5880 : max -->  9.136 min -->  5.32\n",
      "5947 : max -->  9.631 min -->  5.636\n",
      "5958 : max -->  10.33 min -->  5.39\n",
      "5991 : max -->  10.247 min -->  5.857\n",
      "6001 : max -->  10.01 min -->  5.62\n",
      "6005 : max -->  11.33 min -->  7.016\n",
      "6011 : max -->  11.23 min -->  6.9\n",
      "6014 : max -->  11.12 min -->  6.12\n",
      "6015 : max -->  9.825 min -->  5.581\n",
      "6091 : max -->  11.063 min -->  7.043\n",
      "6103 : max -->  11.077 min -->  7.051\n",
      "6114 : max -->  10.58 min -->  5.98\n"
     ]
    }
   ],
   "source": [
    "H_to_large_or_small = []\n",
    "for bmrb_id in filtered_chemical_shifts:\n",
    "    if max(chemical_shifts[bmrb_id].X_shift) > 11 or min(chemical_shifts[bmrb_id].X_shift) < 6:\n",
    "        print(bmrb_id, \":\", \"max --> \",max(chemical_shifts[bmrb_id].X_shift), \"min --> \", min(chemical_shifts[bmrb_id].X_shift))\n",
    "        H_to_large_or_small.append(bmrb_id)"
   ]
  },
  {
   "cell_type": "code",
   "execution_count": 9,
   "id": "a8873669",
   "metadata": {},
   "outputs": [],
   "source": [
    "keys = filtered_chemical_shifts.copy()"
   ]
  },
  {
   "cell_type": "code",
   "execution_count": 10,
   "id": "281881bd",
   "metadata": {},
   "outputs": [
    {
     "data": {
      "text/plain": [
       "479"
      ]
     },
     "execution_count": 10,
     "metadata": {},
     "output_type": "execute_result"
    }
   ],
   "source": [
    "len(keys)"
   ]
  },
  {
   "cell_type": "code",
   "execution_count": 11,
   "id": "73223d21",
   "metadata": {},
   "outputs": [],
   "source": [
    "for bmrb_id in H_to_large_or_small:\n",
    "    keys.remove(bmrb_id)"
   ]
  },
  {
   "cell_type": "code",
   "execution_count": 12,
   "id": "059261bb",
   "metadata": {},
   "outputs": [
    {
     "data": {
      "text/plain": [
       "77"
      ]
     },
     "execution_count": 12,
     "metadata": {},
     "output_type": "execute_result"
    }
   ],
   "source": [
    "len(H_to_large_or_small)"
   ]
  },
  {
   "cell_type": "markdown",
   "id": "5c1a2d34",
   "metadata": {},
   "source": [
    "# N-Shifts"
   ]
  },
  {
   "cell_type": "code",
   "execution_count": 13,
   "id": "6e1216a1",
   "metadata": {},
   "outputs": [
    {
     "data": {
      "image/png": "[encoded data removed]",
      "text/plain": [
       "<Figure size 1080x720 with 1 Axes>"
      ]
     },
     "metadata": {
      "needs_background": "light"
     },
     "output_type": "display_data"
    }
   ],
   "source": [
    "plt.figure(figsize=(15,10))\n",
    "for bmrb_id in filtered_chemical_shifts:\n",
    "    plt.hist(chemical_shifts[bmrb_id].Y_shift, 100, density=False, alpha=0.75, histtype=\"stepfilled\", color=\"black\")\n",
    "plt.title(\"N-Shifts\")\n",
    "plt.show()"
   ]
  },
  {
   "cell_type": "markdown",
   "id": "bffa8d6b",
   "metadata": {},
   "source": [
    "## Filtering"
   ]
  },
  {
   "cell_type": "code",
   "execution_count": 14,
   "id": "b5be4f23",
   "metadata": {},
   "outputs": [
    {
     "name": "stdout",
     "output_type": "stream",
     "text": [
      "5060 : max -->  140.3 min -->  105.1\n"
     ]
    }
   ],
   "source": [
    "N_to_large_or_small = []\n",
    "for bmrb_id in filtered_chemical_shifts:\n",
    "    if max(chemical_shifts[bmrb_id].Y_shift) > 140 or min(chemical_shifts[bmrb_id].Y_shift) < 90:\n",
    "        print(bmrb_id, \":\", \"max --> \",max(chemical_shifts[bmrb_id].Y_shift), \"min --> \", min(chemical_shifts[bmrb_id].Y_shift))\n",
    "        N_to_large_or_small.append(bmrb_id)"
   ]
  },
  {
   "cell_type": "code",
   "execution_count": 15,
   "id": "fc287f23",
   "metadata": {
    "scrolled": true
   },
   "outputs": [
    {
     "name": "stdout",
     "output_type": "stream",
     "text": [
      "5060\n"
     ]
    }
   ],
   "source": [
    "for bmrb_id in N_to_large_or_small:\n",
    "    if bmrb_id not in H_to_large_or_small:\n",
    "        print(bmrb_id)\n",
    "        keys.remove(bmrb_id)"
   ]
  },
  {
   "cell_type": "code",
   "execution_count": 16,
   "id": "d32e22ce",
   "metadata": {},
   "outputs": [
    {
     "data": {
      "text/plain": [
       "401"
      ]
     },
     "execution_count": 16,
     "metadata": {},
     "output_type": "execute_result"
    }
   ],
   "source": [
    "len(keys)"
   ]
  },
  {
   "cell_type": "code",
   "execution_count": 17,
   "id": "7ccdbab7",
   "metadata": {},
   "outputs": [
    {
     "data": {
      "text/plain": [
       "[6150, 6152, 6158, 6161, 6172, 6173, 4129, 6177, 6179, 6180]"
      ]
     },
     "execution_count": 17,
     "metadata": {},
     "output_type": "execute_result"
    }
   ],
   "source": [
    "keys[:10]"
   ]
  },
  {
   "cell_type": "code",
   "execution_count": 18,
   "id": "82c56c51",
   "metadata": {},
   "outputs": [
    {
     "data": {
      "text/plain": [
       "1"
      ]
     },
     "execution_count": 18,
     "metadata": {},
     "output_type": "execute_result"
    }
   ],
   "source": [
    "len(N_to_large_or_small)"
   ]
  },
  {
   "cell_type": "markdown",
   "id": "702b94aa",
   "metadata": {},
   "source": [
    "---"
   ]
  },
  {
   "cell_type": "code",
   "execution_count": 19,
   "id": "ed1308e9",
   "metadata": {},
   "outputs": [],
   "source": [
    "with open(\"2006_filtered_by_shifts.txt\", \"w\") as outfile:\n",
    "    outfile.writelines(\",\".join(map(str, keys)))"
   ]
  },
  {
   "cell_type": "code",
   "execution_count": null,
   "id": "2e784530",
   "metadata": {},
   "outputs": [],
   "source": []
  }
 ],
 "metadata": {
  "kernelspec": {
   "display_name": "Python 3 (ipykernel)",
   "language": "python",
   "name": "python3"
  },
  "language_info": {
   "codemirror_mode": {
    "name": "ipython",
    "version": 3
   },
   "file_extension": ".py",
   "mimetype": "text/x-python",
   "name": "python",
   "nbconvert_exporter": "python",
   "pygments_lexer": "ipython3",
   "version": "3.8.12"
  }
 },
 "nbformat": 4,
 "nbformat_minor": 5
}
