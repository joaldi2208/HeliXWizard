{
 "cells": [
  {
   "cell_type": "code",
   "execution_count": 1,
   "id": "ad17202a",
   "metadata": {},
   "outputs": [],
   "source": [
    "with open(\"proteins_before_2006.txt\", \"r\") as infile:\n",
    "    bmrb_ids_strings_2006 = infile.read().replace(\"\\n\",\"\").split(\",\")\n",
    "    bmrb_ids_2006 = set([int(bmrb_id) for bmrb_id in bmrb_ids_strings_2006])"
   ]
  },
  {
   "cell_type": "code",
   "execution_count": 2,
   "id": "1e2777f7",
   "metadata": {},
   "outputs": [
    {
     "data": {
      "text/plain": [
       "880"
      ]
     },
     "execution_count": 2,
     "metadata": {},
     "output_type": "execute_result"
    }
   ],
   "source": [
    "len(bmrb_ids_2006)"
   ]
  },
  {
   "cell_type": "code",
   "execution_count": 3,
   "id": "385d6577",
   "metadata": {},
   "outputs": [],
   "source": [
    "with open(\"aggregated_bmrd_ids.txt\", \"r\") as infile:\n",
    "    aggregated_bmrb_ids_strings = infile.read().replace(\"\\n\",\"\").split(\",\")\n",
    "    aggregated_bmrb_ids = set([int(bmrb_id) for bmrb_id in aggregated_bmrb_ids_strings])"
   ]
  },
  {
   "cell_type": "code",
   "execution_count": 4,
   "id": "d1a8dcdf",
   "metadata": {},
   "outputs": [
    {
     "data": {
      "text/plain": [
       "4752"
      ]
     },
     "execution_count": 4,
     "metadata": {},
     "output_type": "execute_result"
    }
   ],
   "source": [
    "len(aggregated_bmrb_ids)"
   ]
  },
  {
   "cell_type": "code",
   "execution_count": 6,
   "id": "e12e6858",
   "metadata": {},
   "outputs": [],
   "source": [
    "intersection_filtered_to_2006 = aggregated_bmrb_ids.intersection(bmrb_ids_2006)"
   ]
  },
  {
   "cell_type": "code",
   "execution_count": 7,
   "id": "4e842b34",
   "metadata": {},
   "outputs": [
    {
     "data": {
      "text/plain": [
       "646"
      ]
     },
     "execution_count": 7,
     "metadata": {},
     "output_type": "execute_result"
    }
   ],
   "source": [
    "len(intersection_filtered_to_2006)"
   ]
  },
  {
   "cell_type": "code",
   "execution_count": 23,
   "id": "41f916a2",
   "metadata": {},
   "outputs": [],
   "source": [
    "with open(\"2006_with_previous_filtering.txt\", \"w\") as outfile:\n",
    "    outfile.writelines(\",\".join(map(str, list(intersection_filtered_to_2006))))"
   ]
  },
  {
   "cell_type": "markdown",
   "id": "b695a52b",
   "metadata": {},
   "source": [
    "test if I can find the ID from the paper"
   ]
  },
  {
   "cell_type": "code",
   "execution_count": 15,
   "id": "8527ca82",
   "metadata": {},
   "outputs": [],
   "source": [
    "for i, bmrb_id in enumerate(intersection_filtered_to_2006):\n",
    "    if bmrb_id == 4101:\n",
    "        print(i)"
   ]
  },
  {
   "cell_type": "code",
   "execution_count": null,
   "id": "56c44271",
   "metadata": {},
   "outputs": [],
   "source": []
  }
 ],
 "metadata": {
  "kernelspec": {
   "display_name": "Python 3 (ipykernel)",
   "language": "python",
   "name": "python3"
  },
  "language_info": {
   "codemirror_mode": {
    "name": "ipython",
    "version": 3
   },
   "file_extension": ".py",
   "mimetype": "text/x-python",
   "name": "python",
   "nbconvert_exporter": "python",
   "pygments_lexer": "ipython3",
   "version": "3.10.6"
  }
 },
 "nbformat": 4,
 "nbformat_minor": 5
}
