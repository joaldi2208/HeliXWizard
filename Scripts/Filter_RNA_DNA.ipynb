{
 "cells": [
  {
   "cell_type": "code",
   "execution_count": 23,
   "id": "5c9334b3",
   "metadata": {},
   "outputs": [],
   "source": [
    "import matplotlib.pyplot as plt\n",
    "from pypdb import *\n",
    "import pandas as pd\n",
    "from Data_Downloads import give_corrsponding_ids"
   ]
  },
  {
   "cell_type": "code",
   "execution_count": 27,
   "id": "6dea36ac",
   "metadata": {},
   "outputs": [],
   "source": [
    "bmrb_pdb_ids = pd.read_csv(\"BMRB_PDB_ids.csv\",\n",
    "                            names=[\"bmrb_ids\", \"pdb_ids\"],\n",
    "                            encoding='latin-1')\n",
    "bmrb_pdb_ids.drop_duplicates(subset=\"bmrb_ids\", keep=\"first\", inplace=True, ignore_index=True)\n"
   ]
  },
  {
   "cell_type": "code",
   "execution_count": 28,
   "id": "163e1baa",
   "metadata": {
    "scrolled": true
   },
   "outputs": [],
   "source": [
    "with open(\"found_bmrb_ids.txt\", \"r\") as infile:\n",
    "    found_bmrb_ids_strings = infile.read().replace(\"\\n\",\"\").split(\",\")\n",
    "    found_bmrb_ids = [int(bmrb_id) for bmrb_id in found_bmrb_ids_strings]\n"
   ]
  },
  {
   "cell_type": "code",
   "execution_count": 29,
   "id": "0467886e",
   "metadata": {},
   "outputs": [],
   "source": [
    "pdb_ids = give_corrsponding_ids(bmrb_pdb_ids,found_bmrb_ids)"
   ]
  },
  {
   "cell_type": "code",
   "execution_count": 5,
   "id": "851558c0",
   "metadata": {
    "scrolled": true
   },
   "outputs": [
    {
     "name": "stderr",
     "output_type": "stream",
     "text": [
      "/usr/local/anaconda3/envs/my-rdkit-env/lib/python3.8/site-packages/pypdb/util/http_requests.py:65: UserWarning: Too many failures on requests. Exiting...\n",
      "  warnings.warn(\"Too many failures on requests. Exiting...\")\n",
      "/usr/local/anaconda3/envs/my-rdkit-env/lib/python3.8/site-packages/pypdb/pypdb.py:466: UserWarning: Retrieval failed, returning None\n",
      "  warnings.warn(\"Retrieval failed, returning None\")\n"
     ]
    }
   ],
   "source": [
    "proteins = []\n",
    "rna_dna = []\n",
    "not_found = []\n",
    "\n",
    "for pdb_id in pdb_ids:\n",
    "    all_info = get_info(pdb_id)\n",
    "    if all_info is not None:\n",
    "        classification = all_info[\"struct_keywords\"][\"pdbx_keywords\"]\n",
    "        if classification == \"RNA\" or classification == \"DNA\" or classification == \"DNA-RNA HYBRID\" or \"/DNA\" in classification or \"/RNA\" in classification:\n",
    "            rna_dna.append(pdb_id)\n",
    "        else:\n",
    "            proteins.append(pdb_id)\n",
    "    else: \n",
    "        not_found.append(pdb_id)"
   ]
  },
  {
   "cell_type": "markdown",
   "id": "a6342b67",
   "metadata": {},
   "source": [
    "___"
   ]
  },
  {
   "cell_type": "code",
   "execution_count": 6,
   "id": "cda2601f",
   "metadata": {
    "scrolled": true
   },
   "outputs": [
    {
     "data": {
      "image/png": "[encoded data removed]",
      "text/plain": [
       "<Figure size 1080x720 with 1 Axes>"
      ]
     },
     "metadata": {
      "needs_background": "light"
     },
     "output_type": "display_data"
    }
   ],
   "source": [
    "plt.figure(figsize=(15, 10))\n",
    "plt.bar([\"proteins\", \"rna_dna\", \"not_found\"],[len(proteins), len(rna_dna), len(not_found)])\n",
    "plt.show()"
   ]
  },
  {
   "cell_type": "code",
   "execution_count": 7,
   "id": "e63f1de6",
   "metadata": {},
   "outputs": [
    {
     "name": "stdout",
     "output_type": "stream",
     "text": [
      "proteins : 5717\n",
      "rna_dna : 92\n",
      "not_found : 10\n"
     ]
    }
   ],
   "source": [
    "for category, number in zip([\"proteins\", \"rna_dna\", \"not_found\"],[proteins, rna_dna, not_found]):\n",
    "    print(category, \":\", len(number))"
   ]
  },
  {
   "cell_type": "markdown",
   "id": "1e12e8e0",
   "metadata": {},
   "source": [
    "---"
   ]
  },
  {
   "cell_type": "code",
   "execution_count": 30,
   "id": "39f7fa11",
   "metadata": {},
   "outputs": [
    {
     "data": {
      "text/plain": [
       "5717"
      ]
     },
     "execution_count": 30,
     "metadata": {},
     "output_type": "execute_result"
    }
   ],
   "source": [
    "len(proteins)"
   ]
  },
  {
   "cell_type": "code",
   "execution_count": 31,
   "id": "a81954f2",
   "metadata": {},
   "outputs": [
    {
     "data": {
      "text/plain": [
       "['1E8P',\n",
       " '1Q2N',\n",
       " '1JOO',\n",
       " '1JOQ',\n",
       " '2DEF',\n",
       " '2EZH',\n",
       " '1A5J',\n",
       " '1Q80',\n",
       " '1H95',\n",
       " '1RXR']"
      ]
     },
     "execution_count": 31,
     "metadata": {},
     "output_type": "execute_result"
    }
   ],
   "source": [
    "proteins[:10]"
   ]
  },
  {
   "cell_type": "code",
   "execution_count": 32,
   "id": "e3ec2434",
   "metadata": {},
   "outputs": [
    {
     "data": {
      "text/plain": [
       "['1NK2',\n",
       " '2LEF',\n",
       " '1KQQ',\n",
       " '1F6U',\n",
       " '1EKZ',\n",
       " '1KOS',\n",
       " '1L1M',\n",
       " '1IV6',\n",
       " '1LO1',\n",
       " '1C9S']"
      ]
     },
     "execution_count": 32,
     "metadata": {},
     "output_type": "execute_result"
    }
   ],
   "source": [
    "rna_dna[:10]"
   ]
  },
  {
   "cell_type": "code",
   "execution_count": 33,
   "id": "223519f3",
   "metadata": {},
   "outputs": [
    {
     "data": {
      "text/plain": [
       "['1JJL',\n",
       " '2M95',\n",
       " '5FIM',\n",
       " '7UO6',\n",
       " '6Y0I',\n",
       " '7Z3C',\n",
       " '7ZOK',\n",
       " '8BDV',\n",
       " '8B1X',\n",
       " '8EPT']"
      ]
     },
     "execution_count": 33,
     "metadata": {},
     "output_type": "execute_result"
    }
   ],
   "source": [
    "not_found[:10]"
   ]
  },
  {
   "cell_type": "markdown",
   "id": "8e232195",
   "metadata": {},
   "source": [
    "## Filtering"
   ]
  },
  {
   "cell_type": "code",
   "execution_count": 34,
   "id": "d0dd0097",
   "metadata": {},
   "outputs": [],
   "source": [
    "protein_bmrb_ids = give_corrsponding_ids(bmrb_pdb_ids, query_ids=proteins, ref_ids=\"pdb_ids\", target_ids=\"bmrb_ids\")"
   ]
  },
  {
   "cell_type": "code",
   "execution_count": 35,
   "id": "0af635f5",
   "metadata": {},
   "outputs": [
    {
     "data": {
      "text/plain": [
       "5727"
      ]
     },
     "execution_count": 35,
     "metadata": {},
     "output_type": "execute_result"
    }
   ],
   "source": [
    "len(protein_bmrb_ids)"
   ]
  },
  {
   "cell_type": "markdown",
   "id": "7cccb37d",
   "metadata": {},
   "source": [
    "two pdb entries can have two bmrb entries. This isn't a problem since I have two different spctra for the two different bmrb entries, but the same pdb entry."
   ]
  },
  {
   "cell_type": "code",
   "execution_count": 40,
   "id": "a938e3b1",
   "metadata": {},
   "outputs": [
    {
     "data": {
      "text/plain": [
       "7903"
      ]
     },
     "execution_count": 40,
     "metadata": {},
     "output_type": "execute_result"
    }
   ],
   "source": [
    "len(bmrb_pdb_ids.pdb_ids)"
   ]
  },
  {
   "cell_type": "code",
   "execution_count": 41,
   "id": "8efe6ba7",
   "metadata": {
    "scrolled": true
   },
   "outputs": [
    {
     "data": {
      "text/plain": [
       "7810"
      ]
     },
     "execution_count": 41,
     "metadata": {},
     "output_type": "execute_result"
    }
   ],
   "source": [
    "len(set(bmrb_pdb_ids.pdb_ids))"
   ]
  },
  {
   "cell_type": "markdown",
   "id": "dd0517f4",
   "metadata": {},
   "source": [
    "---"
   ]
  },
  {
   "cell_type": "code",
   "execution_count": 42,
   "id": "c3f9dadc",
   "metadata": {},
   "outputs": [],
   "source": [
    "with open(\"filtered_by_protein.txt\", \"w\") as outfile:\n",
    "    outfile.writelines(\",\".join(map(str, protein_bmrb_ids)))"
   ]
  },
  {
   "cell_type": "code",
   "execution_count": null,
   "id": "eccb19e2",
   "metadata": {},
   "outputs": [],
   "source": []
  }
 ],
 "metadata": {
  "kernelspec": {
   "display_name": "Python 3 (ipykernel)",
   "language": "python",
   "name": "python3"
  },
  "language_info": {
   "codemirror_mode": {
    "name": "ipython",
    "version": 3
   },
   "file_extension": ".py",
   "mimetype": "text/x-python",
   "name": "python",
   "nbconvert_exporter": "python",
   "pygments_lexer": "ipython3",
   "version": "3.10.6"
  }
 },
 "nbformat": 4,
 "nbformat_minor": 5
}
