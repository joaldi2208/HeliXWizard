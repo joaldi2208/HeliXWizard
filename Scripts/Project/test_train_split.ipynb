{
 "cells": [
  {
   "cell_type": "markdown",
   "id": "3421971e",
   "metadata": {},
   "source": [
    "Here I create two new data sets. The third dataset used is already created and is the small one (522). To do so the small data set is subtracted from the big one and from the intersection randomly 20% is used as test data set. These 20% are not in the small dataset and by removing them from the big data set they are also not in the new created big data set."
   ]
  },
  {
   "cell_type": "code",
   "execution_count": 1,
   "id": "383f6b79",
   "metadata": {},
   "outputs": [],
   "source": [
    "import pickle\n",
    "import matplotlib.pyplot as plt\n",
    "import numpy as np\n",
    "from sklearn.model_selection import train_test_split"
   ]
  },
  {
   "cell_type": "code",
   "execution_count": 2,
   "id": "bc3290df",
   "metadata": {},
   "outputs": [],
   "source": [
    "with open(\"../all_with_filtered_by_shifts_constraints.txt\", \"r\") as infile:\n",
    "    big_dataset_bmrb_ids = infile.read().replace(\"\\n\",\"\").split(\",\")\n",
    "    big_dataset_to_compare = set([int(bmrb_id) for bmrb_id in big_dataset_bmrb_ids])"
   ]
  },
  {
   "cell_type": "code",
   "execution_count": 3,
   "id": "3ad6bc8b",
   "metadata": {},
   "outputs": [],
   "source": [
    "with open(\"../2006_filtered_by_shifts.txt\", \"r\") as infile:\n",
    "    small_dataset_bmrb_ids = infile.read().replace(\"\\n\",\"\").split(\",\")\n",
    "    small_dataset_to_compare = set([int(bmrb_id) for bmrb_id in small_dataset_bmrb_ids])"
   ]
  },
  {
   "cell_type": "code",
   "execution_count": 3,
   "id": "695a1e40",
   "metadata": {
    "scrolled": true
   },
   "outputs": [
    {
     "data": {
      "text/plain": [
       "2841"
      ]
     },
     "execution_count": 3,
     "metadata": {},
     "output_type": "execute_result"
    }
   ],
   "source": [
    "len(big_dataset_to_compare)"
   ]
  },
  {
   "cell_type": "code",
   "execution_count": 3,
   "id": "7067cdf6",
   "metadata": {},
   "outputs": [],
   "source": [
    "with open(\"big_dataset_thesis.txt\", \"w\") as outfile:\n",
    "    outfile.writelines(\",\".join(map(str, big_dataset_to_compare)))"
   ]
  },
  {
   "cell_type": "code",
   "execution_count": 8,
   "id": "1a9609c6",
   "metadata": {},
   "outputs": [
    {
     "data": {
      "text/plain": [
       "401"
      ]
     },
     "execution_count": 8,
     "metadata": {},
     "output_type": "execute_result"
    }
   ],
   "source": [
    "len(small_dataset_to_compare)"
   ]
  },
  {
   "cell_type": "markdown",
   "id": "a1f28d47",
   "metadata": {},
   "source": [
    "---"
   ]
  },
  {
   "cell_type": "code",
   "execution_count": 4,
   "id": "76e9b93a",
   "metadata": {},
   "outputs": [],
   "source": [
    "no_overlapp_dataset = list(big_dataset_to_compare - small_dataset_to_compare)"
   ]
  },
  {
   "cell_type": "code",
   "execution_count": 5,
   "id": "6599e829",
   "metadata": {},
   "outputs": [],
   "source": [
    "with open(\"no_overlapp_dataset.txt\", \"w\") as outfile:\n",
    "    outfile.writelines(\",\".join(map(str, no_overlapp_dataset)))"
   ]
  },
  {
   "cell_type": "code",
   "execution_count": 6,
   "id": "1f3a911a",
   "metadata": {},
   "outputs": [
    {
     "name": "stdout",
     "output_type": "stream",
     "text": [
      "2440\n"
     ]
    }
   ],
   "source": [
    "print(len(no_overlapp_dataset))"
   ]
  },
  {
   "cell_type": "code",
   "execution_count": 9,
   "id": "ba5d5f24",
   "metadata": {},
   "outputs": [],
   "source": [
    "with open(f\"Q3_percentage_2440.npy\", \"rb\") as infile:\n",
    "        Q3_percentage_no_overlapp = np.load(infile)"
   ]
  },
  {
   "cell_type": "code",
   "execution_count": 10,
   "id": "3eda4864",
   "metadata": {},
   "outputs": [],
   "source": [
    "_, X_test, _, _ = train_test_split(no_overlapp_dataset, Q3_percentage_no_overlapp, test_size=0.2, random_state=73)"
   ]
  },
  {
   "cell_type": "markdown",
   "id": "27f856e6",
   "metadata": {},
   "source": [
    "---"
   ]
  },
  {
   "cell_type": "code",
   "execution_count": 11,
   "id": "066191a6",
   "metadata": {},
   "outputs": [],
   "source": [
    "train_data = list(big_dataset_to_compare - set(X_test))"
   ]
  },
  {
   "cell_type": "code",
   "execution_count": 12,
   "id": "eef1bded",
   "metadata": {},
   "outputs": [
    {
     "name": "stdout",
     "output_type": "stream",
     "text": [
      "big data set:  2841\n",
      "small data set:  401\n",
      "test data set:  488\n",
      "new big data set:  2353\n"
     ]
    }
   ],
   "source": [
    "print(\"big data set: \", len(big_dataset_bmrb_ids))\n",
    "print(\"small data set: \", len(small_dataset_bmrb_ids))\n",
    "print(\"test data set: \", len(X_test))\n",
    "print(\"new big data set: \", len(train_data))"
   ]
  },
  {
   "cell_type": "code",
   "execution_count": 13,
   "id": "1a907c17",
   "metadata": {},
   "outputs": [],
   "source": [
    "with open(\"project_big_dataset.txt\", \"w\") as outfile:\n",
    "    outfile.writelines(\",\".join(map(str, train_data)))"
   ]
  },
  {
   "cell_type": "code",
   "execution_count": 14,
   "id": "c486b588",
   "metadata": {},
   "outputs": [],
   "source": [
    "with open(\"project_test_dataset.txt\", \"w\") as outfile:\n",
    "    outfile.writelines(\",\".join(map(str, X_test)))"
   ]
  },
  {
   "cell_type": "code",
   "execution_count": null,
   "id": "bb0d1be7",
   "metadata": {},
   "outputs": [],
   "source": []
  }
 ],
 "metadata": {
  "kernelspec": {
   "display_name": "Python 3 (ipykernel)",
   "language": "python",
   "name": "python3"
  },
  "language_info": {
   "codemirror_mode": {
    "name": "ipython",
    "version": 3
   },
   "file_extension": ".py",
   "mimetype": "text/x-python",
   "name": "python",
   "nbconvert_exporter": "python",
   "pygments_lexer": "ipython3",
   "version": "3.8.12"
  }
 },
 "nbformat": 4,
 "nbformat_minor": 5
}
