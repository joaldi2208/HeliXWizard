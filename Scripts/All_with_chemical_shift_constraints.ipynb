{
 "cells": [
  {
   "cell_type": "code",
   "execution_count": 1,
   "id": "27cd536d",
   "metadata": {},
   "outputs": [],
   "source": [
    "import pickle\n",
    "import matplotlib.pyplot as plt"
   ]
  },
  {
   "cell_type": "code",
   "execution_count": 2,
   "id": "968b6d16",
   "metadata": {},
   "outputs": [],
   "source": [
    "with open(\"aggregated_bmrd_ids.txt\", \"r\") as infile:\n",
    "        filtered_IDs = infile.read().replace(\"\\n\",\"\").split(\",\")\n",
    "        filtered_IDs = set([int(bmrb_id) for bmrb_id in filtered_IDs])\n"
   ]
  },
  {
   "cell_type": "code",
   "execution_count": 3,
   "id": "31b87814",
   "metadata": {},
   "outputs": [
    {
     "data": {
      "text/plain": [
       "3184"
      ]
     },
     "execution_count": 3,
     "metadata": {},
     "output_type": "execute_result"
    }
   ],
   "source": [
    "len(filtered_IDs)"
   ]
  },
  {
   "cell_type": "code",
   "execution_count": 4,
   "id": "8fcda189",
   "metadata": {},
   "outputs": [],
   "source": [
    "with open(\"chemical_shifts.pkl\", \"rb\") as infile:\n",
    "        chemical_shifts = pickle.load(infile)\n",
    "        bmrb_ids = set(list(chemical_shifts))"
   ]
  },
  {
   "cell_type": "code",
   "execution_count": 5,
   "id": "553fddf0",
   "metadata": {},
   "outputs": [],
   "source": [
    "filtered_chemical_shifts = list(filtered_IDs.intersection(bmrb_ids))"
   ]
  },
  {
   "cell_type": "code",
   "execution_count": 6,
   "id": "f8ad2dd8",
   "metadata": {},
   "outputs": [
    {
     "data": {
      "text/plain": [
       "3184"
      ]
     },
     "execution_count": 6,
     "metadata": {},
     "output_type": "execute_result"
    }
   ],
   "source": [
    "len(filtered_chemical_shifts)"
   ]
  },
  {
   "cell_type": "markdown",
   "id": "e0231c85",
   "metadata": {},
   "source": [
    "# H-Shifts"
   ]
  },
  {
   "cell_type": "code",
   "execution_count": 7,
   "id": "fcc25435",
   "metadata": {},
   "outputs": [
    {
     "data": {
      "image/png": "[encoded data removed]",
      "text/plain": [
       "<Figure size 1080x720 with 1 Axes>"
      ]
     },
     "metadata": {
      "needs_background": "light"
     },
     "output_type": "display_data"
    }
   ],
   "source": [
    "plt.figure(figsize=(15,10))\n",
    "for bmrb_id in filtered_chemical_shifts:\n",
    "    plt.hist(chemical_shifts[bmrb_id].X_shift, 150, density=False, alpha=0.75, histtype=\"stepfilled\", color=\"black\")\n",
    "plt.title(\"H-Shifts\")\n",
    "plt.show()"
   ]
  },
  {
   "cell_type": "code",
   "execution_count": 8,
   "id": "8890fede",
   "metadata": {},
   "outputs": [
    {
     "name": "stdout",
     "output_type": "stream",
     "text": [
      "16384 : max -->  10.95 min -->  5.09\n",
      "16426 : max -->  11.122 min -->  6.935\n",
      "16441 : max -->  11.189 min -->  6.978\n",
      "16490 : max -->  9.219 min -->  5.443\n",
      "16507 : max -->  11.192 min -->  6.909\n",
      "16545 : max -->  9.514 min -->  5.613\n",
      "16578 : max -->  10.336 min -->  5.295\n",
      "16632 : max -->  11.119 min -->  6.623\n",
      "16675 : max -->  11.293 min -->  5.633\n",
      "16692 : max -->  9.15 min -->  5.937\n",
      "16795 : max -->  11.2 min -->  6.57\n",
      "16807 : max -->  10.273 min -->  5.269\n",
      "25026 : max -->  11.187 min -->  6.9\n",
      "16842 : max -->  10.359 min -->  3.888\n",
      "25081 : max -->  10.901 min -->  5.553\n",
      "16905 : max -->  11.109 min -->  6.481\n",
      "16912 : max -->  9.725 min -->  4.077\n",
      "16929 : max -->  11.755 min -->  3.463\n",
      "16934 : max -->  9.736 min -->  5.764\n",
      "16956 : max -->  11.52 min -->  6.64\n",
      "16969 : max -->  11.989 min -->  7.387\n",
      "17074 : max -->  11.618 min -->  6.226\n",
      "17076 : max -->  11.34 min -->  6.192\n",
      "17080 : max -->  9.936 min -->  5.331\n",
      "17125 : max -->  10.133 min -->  5.958\n",
      "25324 : max -->  10.123 min -->  2.937\n",
      "25342 : max -->  11.55 min -->  6.325\n",
      "25400 : max -->  9.837 min -->  5.922\n",
      "17260 : max -->  11.978 min -->  5.749\n",
      "25477 : max -->  12.968 min -->  6.115\n",
      "17288 : max -->  10.719 min -->  5.957\n",
      "25504 : max -->  9.988 min -->  5.914\n",
      "25509 : max -->  9.914 min -->  5.628\n",
      "17320 : max -->  11.5 min -->  7.021\n",
      "25514 : max -->  11.145 min -->  6.604\n",
      "25553 : max -->  11.082 min -->  6.757\n",
      "25568 : max -->  9.923 min -->  5.25\n",
      "50167 : max -->  10.316 min -->  5.769\n",
      "17403 : max -->  10.817 min -->  4.93\n",
      "17420 : max -->  10.329 min -->  3.143\n",
      "17425 : max -->  11.02 min -->  7.328\n",
      "17429 : max -->  9.56 min -->  5.87\n",
      "50202 : max -->  11.57 min -->  8.39\n",
      "25640 : max -->  11.549 min -->  4.719\n",
      "25645 : max -->  9.858 min -->  5.916\n",
      "17477 : max -->  10.297 min -->  5.97\n",
      "50269 : max -->  10.63 min -->  5.76\n",
      "17512 : max -->  9.73 min -->  5.53\n",
      "50331 : max -->  11.995 min -->  5.521\n",
      "25761 : max -->  10.737 min -->  5.928\n",
      "17577 : max -->  11.42 min -->  6.79\n",
      "25793 : max -->  9.072 min -->  5.781\n",
      "25802 : max -->  10.654 min -->  2.74\n",
      "17632 : max -->  9.75 min -->  5.183\n",
      "25871 : max -->  11.185 min -->  5.44\n",
      "25874 : max -->  10.493 min -->  3.873\n",
      "17683 : max -->  11.462 min -->  6.726\n",
      "17694 : max -->  11.421 min -->  6.59\n",
      "34080 : max -->  11.182 min -->  6.47\n",
      "17701 : max -->  12.395 min -->  6.603\n",
      "25902 : max -->  9.602 min -->  5.376\n",
      "25907 : max -->  10.705 min -->  4.483\n",
      "25908 : max -->  11.702 min -->  6.168\n",
      "17723 : max -->  10.653 min -->  3.566\n",
      "25919 : max -->  10.276 min -->  5.643\n",
      "25927 : max -->  9.34 min -->  5.732\n",
      "17747 : max -->  10.901 min -->  5.122\n",
      "26003 : max -->  12.66 min -->  7.076\n",
      "26026 : max -->  11.522 min -->  7.148\n",
      "26031 : max -->  11.385 min -->  6.71\n",
      "34248 : max -->  9.42 min -->  5.565\n",
      "34247 : max -->  9.246 min -->  5.119\n",
      "26059 : max -->  9.9 min -->  5.16\n",
      "34257 : max -->  9.944 min -->  5.674\n",
      "34260 : max -->  10.142 min -->  5.651\n",
      "17927 : max -->  9.874 min -->  5.666\n",
      "17934 : max -->  9.61 min -->  5.891\n",
      "34336 : max -->  9.628 min -->  5.61\n",
      "34361 : max -->  12.022 min -->  6.056\n",
      "18001 : max -->  10.15 min -->  5.74\n",
      "18006 : max -->  9.765 min -->  5.068\n",
      "18007 : max -->  9.53 min -->  5.025\n",
      "18008 : max -->  9.684 min -->  5.184\n",
      "18081 : max -->  11.274 min -->  6.558\n",
      "18112 : max -->  11.627 min -->  6.61\n",
      "18141 : max -->  9.26 min -->  5.93\n",
      "34527 : max -->  11.005 min -->  6.704\n",
      "34538 : max -->  11.583 min -->  7.193\n",
      "18178 : max -->  11.465 min -->  5.919\n",
      "18179 : max -->  11.408 min -->  5.954\n",
      "10011 : max -->  10.349 min -->  3.636\n",
      "10029 : max -->  12.392 min -->  7.162\n",
      "10037 : max -->  11.329 min -->  6.67\n",
      "10068 : max -->  9.413 min -->  4.062\n",
      "10069 : max -->  10.517 min -->  5.984\n",
      "18277 : max -->  9.826 min -->  5.756\n",
      "10089 : max -->  9.807 min -->  3.295\n",
      "18290 : max -->  10.537 min -->  3.908\n",
      "10107 : max -->  11.301 min -->  6.548\n",
      "18299 : max -->  9.697 min -->  5.977\n",
      "10115 : max -->  10.286 min -->  5.977\n",
      "34707 : max -->  11.693 min -->  6.81\n",
      "18333 : max -->  10.519 min -->  5.516\n",
      "10147 : max -->  11.107 min -->  6.825\n",
      "18375 : max -->  9.6 min -->  4.99\n",
      "18379 : max -->  11.016 min -->  6.735\n",
      "10235 : max -->  9.581 min -->  3.714\n",
      "10236 : max -->  9.601 min -->  3.385\n",
      "10250 : max -->  9.972 min -->  5.556\n",
      "18466 : max -->  11.083 min -->  6.869\n",
      "18467 : max -->  11.091 min -->  6.867\n",
      "18485 : max -->  10.357 min -->  5.816\n",
      "18490 : max -->  9.372 min -->  3.785\n",
      "10300 : max -->  9.473 min -->  4.276\n",
      "51291 : max -->  11.662 min -->  6.816\n",
      "10335 : max -->  9.877 min -->  5.865\n",
      "51290 : max -->  11.693 min -->  6.81\n",
      "18522 : max -->  11.488 min -->  6.967\n",
      "26724 : max -->  11.167 min -->  6.753\n",
      "26753 : max -->  10.194 min -->  5.97\n",
      "18618 : max -->  11.247 min -->  6.884\n",
      "18636 : max -->  10.418 min -->  5.767\n",
      "18653 : max -->  11.263 min -->  6.526\n",
      "18679 : max -->  9.365 min -->  5.598\n",
      "18680 : max -->  9.427 min -->  5.975\n",
      "18726 : max -->  11.715 min -->  6.474\n",
      "34610 : max -->  11.689 min -->  6.46\n",
      "18734 : max -->  9.757 min -->  5.865\n",
      "26933 : max -->  10.823 min -->  5.664\n",
      "18787 : max -->  10.291 min -->  3.99\n",
      "18394 : max -->  11.758 min -->  5.418\n",
      "18825 : max -->  11.731 min -->  6.975\n",
      "18826 : max -->  11.816 min -->  6.912\n",
      "18856 : max -->  10.273 min -->  5.976\n",
      "18919 : max -->  11.649 min -->  6.392\n",
      "18939 : max -->  11.163 min -->  7.091\n",
      "27146 : max -->  10.419 min -->  5.419\n",
      "19001 : max -->  10.227 min -->  5.401\n",
      "19028 : max -->  10.636 min -->  5.893\n",
      "26577 : max -->  11.362 min -->  6.658\n",
      "18439 : max -->  11.7 min -->  6.818\n",
      "19047 : max -->  11.059 min -->  6.11\n",
      "19048 : max -->  11.079 min -->  6.222\n",
      "27284 : max -->  10.895 min -->  5.711\n",
      "19098 : max -->  11.285 min -->  7.091\n",
      "27313 : max -->  9.411 min -->  3.325\n",
      "19148 : max -->  9.476 min -->  5.816\n",
      "19179 : max -->  11.396 min -->  6.925\n",
      "19219 : max -->  11.83 min -->  6.28\n",
      "19221 : max -->  11.871 min -->  6.251\n",
      "19235 : max -->  10.55 min -->  4.547\n",
      "11078 : max -->  11.487 min -->  6.831\n",
      "19286 : max -->  11.1 min -->  6.48\n",
      "11101 : max -->  10.417 min -->  5.995\n",
      "19294 : max -->  9.536 min -->  5.902\n",
      "11104 : max -->  9.982 min -->  5.993\n",
      "11107 : max -->  9.76 min -->  5.741\n",
      "11109 : max -->  10.045 min -->  5.952\n",
      "11113 : max -->  9.923 min -->  5.386\n",
      "11114 : max -->  10.634 min -->  5.995\n",
      "19305 : max -->  13.087 min -->  5.842\n",
      "11143 : max -->  11.069 min -->  6.682\n",
      "11155 : max -->  9.481 min -->  5.679\n",
      "11160 : max -->  10.188 min -->  5.453\n",
      "11175 : max -->  11.428 min -->  6.914\n",
      "11194 : max -->  10.013 min -->  5.51\n",
      "11203 : max -->  10.196 min -->  5.704\n",
      "19395 : max -->  10.576 min -->  5.904\n",
      "19403 : max -->  11.75 min -->  7.23\n",
      "19413 : max -->  11.199 min -->  6.262\n",
      "19417 : max -->  10.68 min -->  5.879\n",
      "11244 : max -->  9.628 min -->  5.298\n",
      "11247 : max -->  11.316 min -->  5.992\n",
      "11296 : max -->  9.659 min -->  5.467\n",
      "11321 : max -->  9.19 min -->  5.894\n",
      "11334 : max -->  9.178 min -->  5.534\n",
      "19687 : max -->  9.789 min -->  5.42\n",
      "36070 : max -->  11.273 min -->  6.971\n",
      "36071 : max -->  11.287 min -->  6.928\n",
      "11506 : max -->  10.883 min -->  5.636\n",
      "11508 : max -->  10.571 min -->  5.202\n",
      "36084 : max -->  9.887 min -->  5.957\n",
      "36085 : max -->  9.525 min -->  5.947\n",
      "3322 : max -->  9.7 min -->  5.8\n",
      "11525 : max -->  11.23 min -->  7.079\n",
      "11531 : max -->  9.831 min -->  5.33\n",
      "19726 : max -->  11.042 min -->  6.626\n",
      "11544 : max -->  11.49 min -->  6.532\n",
      "11548 : max -->  11.465 min -->  6.795\n",
      "11561 : max -->  10.556 min -->  5.398\n",
      "11562 : max -->  10.526 min -->  5.37\n",
      "19775 : max -->  10.25 min -->  5.867\n",
      "36163 : max -->  11.55 min -->  6.529\n",
      "19834 : max -->  9.767 min -->  5.915\n",
      "28028 : max -->  11.389 min -->  6.677\n",
      "19855 : max -->  13.877 min -->  4.988\n",
      "19915 : max -->  9.407 min -->  5.887\n",
      "19916 : max -->  9.396 min -->  5.742\n",
      "19954 : max -->  10.143 min -->  5.678\n",
      "19971 : max -->  11.654 min -->  6.624\n",
      "51292 : max -->  11.71 min -->  6.829\n",
      "4184 : max -->  10.74 min -->  4.98\n",
      "4265 : max -->  11.58 min -->  6.05\n",
      "4312 : max -->  11.67 min -->  6.36\n",
      "4342 : max -->  9.7 min -->  4.38\n",
      "4397 : max -->  9.81 min -->  5.33\n",
      "4428 : max -->  10.64 min -->  5.93\n",
      "4497 : max -->  11.68 min -->  6.83\n",
      "4553 : max -->  10.43 min -->  5.48\n",
      "4588 : max -->  9.54 min -->  5.62\n",
      "4589 : max -->  11.31 min -->  5.37\n",
      "4599 : max -->  11.68 min -->  6.83\n",
      "4649 : max -->  9.521 min -->  5.489\n",
      "4664 : max -->  11.29 min -->  6.7\n",
      "4668 : max -->  11.594 min -->  6.597\n",
      "4679 : max -->  13.02 min -->  5.57\n",
      "4701 : max -->  11.38 min -->  6.74\n",
      "4706 : max -->  10.582 min -->  5.747\n",
      "4716 : max -->  11.05 min -->  5.78\n",
      "4775 : max -->  10.04 min -->  5.39\n",
      "4778 : max -->  10.57 min -->  5.71\n",
      "4895 : max -->  9.77 min -->  5.9\n",
      "4902 : max -->  9.99 min -->  5.56\n",
      "4929 : max -->  9.8 min -->  5.57\n",
      "4938 : max -->  10.44 min -->  4.73\n",
      "4954 : max -->  11.06 min -->  6.92\n",
      "5022 : max -->  11.11 min -->  6.661\n",
      "5165 : max -->  10.281 min -->  5.211\n",
      "5211 : max -->  11.357 min -->  5.598\n",
      "5212 : max -->  11.13 min -->  5.555\n",
      "5298 : max -->  10.41 min -->  5.89\n",
      "5315 : max -->  11.74 min -->  6.712\n",
      "5334 : max -->  9.328 min -->  5.46\n",
      "5389 : max -->  11.9 min -->  6.67\n",
      "5396 : max -->  10.749 min -->  5.681\n",
      "30034 : max -->  9.76 min -->  5.75\n",
      "30077 : max -->  11.284 min -->  6.427\n",
      "30118 : max -->  11.409 min -->  5.876\n",
      "5552 : max -->  12.22 min -->  5.7\n",
      "30133 : max -->  14.785 min -->  6.01\n",
      "5566 : max -->  9.82 min -->  5.37\n",
      "5589 : max -->  9.79 min -->  5.65\n",
      "5678 : max -->  9.13 min -->  5.75\n",
      "30303 : max -->  10.43 min -->  5.882\n",
      "5742 : max -->  10.304 min -->  5.839\n",
      "5745 : max -->  11.7 min -->  6.54\n",
      "30326 : max -->  10.627 min -->  5.698\n",
      "5820 : max -->  11.085 min -->  6.346\n",
      "5844 : max -->  9.952 min -->  5.614\n",
      "5876 : max -->  10.036 min -->  5.492\n",
      "5880 : max -->  9.136 min -->  5.32\n",
      "5947 : max -->  9.631 min -->  5.636\n",
      "5958 : max -->  10.33 min -->  5.39\n",
      "5991 : max -->  10.247 min -->  5.857\n",
      "30569 : max -->  9.627 min -->  5.394\n",
      "6001 : max -->  10.01 min -->  5.62\n",
      "6005 : max -->  11.33 min -->  7.016\n",
      "6011 : max -->  11.23 min -->  6.9\n",
      "6014 : max -->  11.12 min -->  6.12\n",
      "6015 : max -->  9.825 min -->  5.581\n",
      "6091 : max -->  11.063 min -->  7.043\n",
      "6103 : max -->  11.077 min -->  7.051\n",
      "6114 : max -->  10.58 min -->  5.98\n",
      "6160 : max -->  11.227 min -->  7.187\n",
      "6176 : max -->  9.78 min -->  4.92\n",
      "6189 : max -->  10.082 min -->  5.652\n",
      "6254 : max -->  11.388 min -->  7.168\n",
      "6259 : max -->  11.22 min -->  6.972\n",
      "6266 : max -->  9.528 min -->  5.81\n",
      "6272 : max -->  9.46 min -->  5.38\n",
      "6295 : max -->  12.026 min -->  6.307\n",
      "6313 : max -->  11.06 min -->  6.72\n",
      "6337 : max -->  11.016 min -->  6.135\n",
      "30926 : max -->  9.679 min -->  5.07\n",
      "30937 : max -->  11.415 min -->  7.277\n",
      "6365 : max -->  10.98 min -->  5.59\n",
      "6390 : max -->  11.76 min -->  6.38\n",
      "6393 : max -->  11.15 min -->  6.56\n",
      "30969 : max -->  10.36 min -->  5.87\n",
      "51054 : max -->  10.211 min -->  5.229\n",
      "6448 : max -->  9.987 min -->  5.404\n",
      "6475 : max -->  10.746 min -->  5.221\n",
      "6549 : max -->  11.54 min -->  6.34\n",
      "6597 : max -->  11.121 min -->  6.175\n",
      "6615 : max -->  11.56 min -->  6.541\n",
      "6644 : max -->  11.01 min -->  5.66\n",
      "6692 : max -->  11.649 min -->  6.319\n",
      "6726 : max -->  11.224 min -->  5.747\n",
      "6829 : max -->  9.54 min -->  5.592\n",
      "15028 : max -->  10.691 min -->  5.831\n",
      "15046 : max -->  11.52 min -->  6.729\n",
      "15063 : max -->  12.003 min -->  6.65\n",
      "6884 : max -->  11.06 min -->  6.74\n",
      "6910 : max -->  11.66 min -->  6.64\n",
      "15110 : max -->  9.694 min -->  4.991\n",
      "6922 : max -->  9.734 min -->  5.77\n",
      "15120 : max -->  11.4 min -->  5.29\n",
      "6956 : max -->  9.781 min -->  5.863\n",
      "6971 : max -->  10.51 min -->  5.67\n",
      "6972 : max -->  10.5 min -->  5.42\n",
      "7000 : max -->  11.54 min -->  7.32\n",
      "15208 : max -->  9.849 min -->  5.553\n",
      "15242 : max -->  11.987 min -->  6.505\n",
      "7053 : max -->  10.74 min -->  5.91\n",
      "15271 : max -->  11.33 min -->  7.29\n",
      "7108 : max -->  9.807 min -->  5.92\n",
      "7109 : max -->  9.793 min -->  5.863\n",
      "7114 : max -->  10.96 min -->  5.99\n",
      "7122 : max -->  9.68 min -->  5.62\n",
      "15334 : max -->  11.385 min -->  6.508\n",
      "15337 : max -->  10.133 min -->  5.87\n",
      "15347 : max -->  12.46 min -->  6.85\n",
      "7189 : max -->  11.306 min -->  6.347\n",
      "15395 : max -->  11.512 min -->  5.241\n",
      "15396 : max -->  11.51 min -->  5.24\n",
      "7228 : max -->  11.19 min -->  6.39\n",
      "15431 : max -->  12.04 min -->  5.65\n",
      "15434 : max -->  11.284 min -->  7.06\n",
      "7256 : max -->  9.88 min -->  5.95\n",
      "7285 : max -->  11.39 min -->  5.8\n",
      "15485 : max -->  11.072 min -->  6.689\n",
      "15576 : max -->  11.482 min -->  6.8\n",
      "15578 : max -->  11.91 min -->  5.621\n",
      "15678 : max -->  9.914 min -->  5.768\n",
      "15716 : max -->  11.96 min -->  6.45\n",
      "15744 : max -->  9.455 min -->  5.972\n",
      "15783 : max -->  10.532 min -->  5.794\n",
      "15798 : max -->  11.13 min -->  5.565\n",
      "15837 : max -->  10.32 min -->  5.75\n",
      "15893 : max -->  11.15 min -->  5.712\n",
      "15961 : max -->  9.781 min -->  5.743\n",
      "16065 : max -->  9.884 min -->  5.973\n",
      "16068 : max -->  9.482 min -->  5.931\n",
      "16126 : max -->  10.002 min -->  5.667\n",
      "16210 : max -->  11.136 min -->  6.77\n",
      "16306 : max -->  11.07 min -->  6.67\n",
      "16312 : max -->  11.84 min -->  6.66\n",
      "16353 : max -->  10.446 min -->  5.28\n",
      "16364 : max -->  11.41 min -->  7.47\n",
      "16374 : max -->  11.575 min -->  6.562\n",
      "16380 : max -->  9.672 min -->  5.465\n"
     ]
    }
   ],
   "source": [
    "H_to_large_or_small = []\n",
    "for bmrb_id in filtered_chemical_shifts:\n",
    "    if max(chemical_shifts[bmrb_id].X_shift) > 11 or min(chemical_shifts[bmrb_id].X_shift) < 6:\n",
    "        print(bmrb_id, \":\", \"max --> \",max(chemical_shifts[bmrb_id].X_shift), \"min --> \", min(chemical_shifts[bmrb_id].X_shift))\n",
    "        H_to_large_or_small.append(bmrb_id)"
   ]
  },
  {
   "cell_type": "code",
   "execution_count": 9,
   "id": "4738be11",
   "metadata": {},
   "outputs": [],
   "source": [
    "keys = filtered_chemical_shifts.copy()"
   ]
  },
  {
   "cell_type": "code",
   "execution_count": 10,
   "id": "060ce271",
   "metadata": {},
   "outputs": [
    {
     "data": {
      "text/plain": [
       "3184"
      ]
     },
     "execution_count": 10,
     "metadata": {},
     "output_type": "execute_result"
    }
   ],
   "source": [
    "len(keys)"
   ]
  },
  {
   "cell_type": "code",
   "execution_count": 11,
   "id": "172a341f",
   "metadata": {},
   "outputs": [],
   "source": [
    "for bmrb_id in H_to_large_or_small:\n",
    "    keys.remove(bmrb_id)"
   ]
  },
  {
   "cell_type": "code",
   "execution_count": 12,
   "id": "6813e6ca",
   "metadata": {},
   "outputs": [
    {
     "data": {
      "text/plain": [
       "341"
      ]
     },
     "execution_count": 12,
     "metadata": {},
     "output_type": "execute_result"
    }
   ],
   "source": [
    "len(H_to_large_or_small)"
   ]
  },
  {
   "cell_type": "markdown",
   "id": "44c0120d",
   "metadata": {},
   "source": [
    "# N-Shifts"
   ]
  },
  {
   "cell_type": "code",
   "execution_count": 13,
   "id": "5c7e91b5",
   "metadata": {},
   "outputs": [
    {
     "data": {
      "image/png": "[encoded data removed]",
      "text/plain": [
       "<Figure size 1080x720 with 1 Axes>"
      ]
     },
     "metadata": {
      "needs_background": "light"
     },
     "output_type": "display_data"
    }
   ],
   "source": [
    "plt.figure(figsize=(15,10))\n",
    "for bmrb_id in filtered_chemical_shifts:\n",
    "    plt.hist(chemical_shifts[bmrb_id].Y_shift, 100, density=False, alpha=0.75, histtype=\"stepfilled\", color=\"black\")\n",
    "plt.title(\"N-Shifts\")\n",
    "plt.show()"
   ]
  },
  {
   "cell_type": "code",
   "execution_count": 14,
   "id": "6a7ff395",
   "metadata": {},
   "outputs": [
    {
     "name": "stdout",
     "output_type": "stream",
     "text": [
      "5060 : max -->  140.3 min -->  105.1\n",
      "30921 : max -->  123.749 min -->  84.773\n"
     ]
    }
   ],
   "source": [
    "N_to_large_or_small = []\n",
    "for bmrb_id in filtered_chemical_shifts:\n",
    "    if max(chemical_shifts[bmrb_id].Y_shift) > 140 or min(chemical_shifts[bmrb_id].Y_shift) < 90:\n",
    "        print(bmrb_id, \":\", \"max --> \",max(chemical_shifts[bmrb_id].Y_shift), \"min --> \", min(chemical_shifts[bmrb_id].Y_shift))\n",
    "        N_to_large_or_small.append(bmrb_id)"
   ]
  },
  {
   "cell_type": "code",
   "execution_count": 15,
   "id": "b271387f",
   "metadata": {},
   "outputs": [
    {
     "name": "stdout",
     "output_type": "stream",
     "text": [
      "5060\n",
      "30921\n"
     ]
    }
   ],
   "source": [
    "for bmrb_id in N_to_large_or_small:\n",
    "    if bmrb_id not in H_to_large_or_small:\n",
    "        print(bmrb_id)\n",
    "        keys.remove(bmrb_id)"
   ]
  },
  {
   "cell_type": "code",
   "execution_count": 16,
   "id": "a2ad4908",
   "metadata": {},
   "outputs": [
    {
     "data": {
      "text/plain": [
       "2841"
      ]
     },
     "execution_count": 16,
     "metadata": {},
     "output_type": "execute_result"
    }
   ],
   "source": [
    "len(keys)"
   ]
  },
  {
   "cell_type": "code",
   "execution_count": 17,
   "id": "9ce118e5",
   "metadata": {},
   "outputs": [
    {
     "data": {
      "text/plain": [
       "2"
      ]
     },
     "execution_count": 17,
     "metadata": {},
     "output_type": "execute_result"
    }
   ],
   "source": [
    "len(N_to_large_or_small)"
   ]
  },
  {
   "cell_type": "code",
   "execution_count": 18,
   "id": "071fd18b",
   "metadata": {},
   "outputs": [],
   "source": [
    "with open(\"all_with_filtered_by_shifts_constraints.txt\", \"w\") as outfile:\n",
    "    outfile.writelines(\",\".join(map(str, keys)))"
   ]
  },
  {
   "cell_type": "code",
   "execution_count": null,
   "id": "28cbb291",
   "metadata": {},
   "outputs": [],
   "source": []
  }
 ],
 "metadata": {
  "kernelspec": {
   "display_name": "Python 3 (ipykernel)",
   "language": "python",
   "name": "python3"
  },
  "language_info": {
   "codemirror_mode": {
    "name": "ipython",
    "version": 3
   },
   "file_extension": ".py",
   "mimetype": "text/x-python",
   "name": "python",
   "nbconvert_exporter": "python",
   "pygments_lexer": "ipython3",
   "version": "3.9.12"
  }
 },
 "nbformat": 4,
 "nbformat_minor": 5
}
